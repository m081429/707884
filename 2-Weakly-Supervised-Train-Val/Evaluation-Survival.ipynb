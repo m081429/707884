{
 "cells": [
  {
   "cell_type": "markdown",
   "metadata": {},
   "source": [
    "# Load Data"
   ]
  },
  {
   "cell_type": "code",
   "execution_count": 1,
   "metadata": {},
   "outputs": [],
   "source": [
    "# Base / Native\n",
    "import math\n",
    "import os\n",
    "from os.path import join\n",
    "import pickle\n",
    "import re\n",
    "import warnings\n",
    "warnings.filterwarnings('ignore')\n",
    "\n",
    "# Numerical / Array\n",
    "import lifelines\n",
    "from lifelines.statistics import logrank_test\n",
    "from lifelines.utils import concordance_index as ci\n",
    "from sksurv.metrics import cumulative_dynamic_auc\n",
    "import numpy as np\n",
    "import pandas as pd\n",
    "import scipy\n",
    "from scipy import interp\n",
    "from scipy.stats import ttest_ind\n",
    "from tqdm import tqdm"
   ]
  },
  {
   "cell_type": "markdown",
   "metadata": {},
   "source": [
    "### Table 2"
   ]
  },
  {
   "cell_type": "code",
   "execution_count": 79,
   "metadata": {},
   "outputs": [],
   "source": [
    "results_all = {}\n",
    "tcga_studies = ['tcga_brca', 'tcga_coadread', 'tcga_kirc', 'tcga_kirp', 'tcga_luad', 'tcga_stad']\n",
    "\n",
    "dataroot = './results_surv/5foldcv/'\n",
    "for exp_dir in sorted(os.listdir(dataroot)):\n",
    "    results = []\n",
    "    for study in tcga_studies:\n",
    "        study_dir = os.path.join(dataroot, exp_dir, '%s_%s_s1' % (study, exp_dir))\n",
    "        if os.path.isdir(study_dir) and 'summary_latest.csv' in os.listdir(study_dir):\n",
    "            cin = '%0.3f' % pd.read_csv(os.path.join(study_dir, 'summary_latest.csv'))['val_cindex'].mean()\n",
    "            cin += ' +/- %0.3f' % pd.read_csv(os.path.join(study_dir, 'summary_latest.csv'))['val_cindex'].std()\n",
    "            results.append(cin)\n",
    "        else:\n",
    "            results.append(np.NaN)\n",
    "            \n",
    "    results_all[exp_dir] = results"
   ]
  },
  {
   "cell_type": "code",
   "execution_count": 80,
   "metadata": {},
   "outputs": [
    {
     "name": "stdout",
     "output_type": "stream",
     "text": [
      "\\begin{tabular}{lllllll}\n",
      "\\toprule\n",
      "{} &        tcga\\_brca &    tcga\\_coadread &        tcga\\_kirc &        tcga\\_kirp &        tcga\\_luad &        tcga\\_stad \\\\\n",
      "\\midrule\n",
      "AMIL   &  0.487 +/- 0.079 &  0.566 +/- 0.075 &  0.561 +/- 0.074 &  0.671 +/- 0.076 &  0.584 +/- 0.054 &  0.562 +/- 0.049 \\\\\n",
      "MI-FCN &  0.472 +/- 0.023 &  0.561 +/- 0.088 &  0.521 +/- 0.084 &  0.472 +/- 0.162 &  0.563 +/- 0.037 &  0.563 +/- 0.067 \\\\\n",
      "DGCN   &  0.534 +/- 0.060 &  0.538 +/- 0.049 &  0.591 +/- 0.093 &  0.636 +/- 0.066 &  0.592 +/- 0.070 &  0.513 +/- 0.069 \\\\\n",
      "DSMIL  &  0.472 +/- 0.020 &  0.470 +/- 0.053 &  0.548 +/- 0.057 &  0.654 +/- 0.134 &  0.537 +/- 0.061 &  0.546 +/- 0.047 \\\\\n",
      "HIPT   &  0.634 +/- 0.050 &  0.608 +/- 0.088 &  0.642 +/- 0.028 &  0.670 +/- 0.065 &  0.538 +/- 0.044 &  0.570 +/- 0.081 \\\\\n",
      "\\bottomrule\n",
      "\\end{tabular}\n",
      "\n"
     ]
    },
    {
     "data": {
      "text/html": [
       "<div>\n",
       "<style scoped>\n",
       "    .dataframe tbody tr th:only-of-type {\n",
       "        vertical-align: middle;\n",
       "    }\n",
       "\n",
       "    .dataframe tbody tr th {\n",
       "        vertical-align: top;\n",
       "    }\n",
       "\n",
       "    .dataframe thead th {\n",
       "        text-align: right;\n",
       "    }\n",
       "</style>\n",
       "<table border=\"1\" class=\"dataframe\">\n",
       "  <thead>\n",
       "    <tr style=\"text-align: right;\">\n",
       "      <th></th>\n",
       "      <th>tcga_brca</th>\n",
       "      <th>tcga_coadread</th>\n",
       "      <th>tcga_kirc</th>\n",
       "      <th>tcga_kirp</th>\n",
       "      <th>tcga_luad</th>\n",
       "      <th>tcga_stad</th>\n",
       "    </tr>\n",
       "  </thead>\n",
       "  <tbody>\n",
       "    <tr>\n",
       "      <th>AMIL</th>\n",
       "      <td>0.487 +/- 0.079</td>\n",
       "      <td>0.566 +/- 0.075</td>\n",
       "      <td>0.561 +/- 0.074</td>\n",
       "      <td>0.671 +/- 0.076</td>\n",
       "      <td>0.584 +/- 0.054</td>\n",
       "      <td>0.562 +/- 0.049</td>\n",
       "    </tr>\n",
       "    <tr>\n",
       "      <th>MI-FCN</th>\n",
       "      <td>0.472 +/- 0.023</td>\n",
       "      <td>0.561 +/- 0.088</td>\n",
       "      <td>0.521 +/- 0.084</td>\n",
       "      <td>0.472 +/- 0.162</td>\n",
       "      <td>0.563 +/- 0.037</td>\n",
       "      <td>0.563 +/- 0.067</td>\n",
       "    </tr>\n",
       "    <tr>\n",
       "      <th>DGCN</th>\n",
       "      <td>0.534 +/- 0.060</td>\n",
       "      <td>0.538 +/- 0.049</td>\n",
       "      <td>0.591 +/- 0.093</td>\n",
       "      <td>0.636 +/- 0.066</td>\n",
       "      <td>0.592 +/- 0.070</td>\n",
       "      <td>0.513 +/- 0.069</td>\n",
       "    </tr>\n",
       "    <tr>\n",
       "      <th>DSMIL</th>\n",
       "      <td>0.472 +/- 0.020</td>\n",
       "      <td>0.470 +/- 0.053</td>\n",
       "      <td>0.548 +/- 0.057</td>\n",
       "      <td>0.654 +/- 0.134</td>\n",
       "      <td>0.537 +/- 0.061</td>\n",
       "      <td>0.546 +/- 0.047</td>\n",
       "    </tr>\n",
       "    <tr>\n",
       "      <th>HIPT</th>\n",
       "      <td>0.634 +/- 0.050</td>\n",
       "      <td>0.608 +/- 0.088</td>\n",
       "      <td>0.642 +/- 0.028</td>\n",
       "      <td>0.670 +/- 0.065</td>\n",
       "      <td>0.538 +/- 0.044</td>\n",
       "      <td>0.570 +/- 0.081</td>\n",
       "    </tr>\n",
       "  </tbody>\n",
       "</table>\n",
       "</div>"
      ],
      "text/plain": [
       "              tcga_brca    tcga_coadread        tcga_kirc        tcga_kirp  \\\n",
       "AMIL    0.487 +/- 0.079  0.566 +/- 0.075  0.561 +/- 0.074  0.671 +/- 0.076   \n",
       "MI-FCN  0.472 +/- 0.023  0.561 +/- 0.088  0.521 +/- 0.084  0.472 +/- 0.162   \n",
       "DGCN    0.534 +/- 0.060  0.538 +/- 0.049  0.591 +/- 0.093  0.636 +/- 0.066   \n",
       "DSMIL   0.472 +/- 0.020  0.470 +/- 0.053  0.548 +/- 0.057  0.654 +/- 0.134   \n",
       "HIPT    0.634 +/- 0.050  0.608 +/- 0.088  0.642 +/- 0.028  0.670 +/- 0.065   \n",
       "\n",
       "              tcga_luad        tcga_stad  \n",
       "AMIL    0.584 +/- 0.054  0.562 +/- 0.049  \n",
       "MI-FCN  0.563 +/- 0.037  0.563 +/- 0.067  \n",
       "DGCN    0.592 +/- 0.070  0.513 +/- 0.069  \n",
       "DSMIL   0.537 +/- 0.061  0.546 +/- 0.047  \n",
       "HIPT    0.538 +/- 0.044  0.570 +/- 0.081  "
      ]
     },
     "execution_count": 80,
     "metadata": {},
     "output_type": "execute_result"
    }
   ],
   "source": [
    "models = ['AMIL_nll_surv_a0.0_5foldcv_gc32_dino_sig',\n",
    "          'MIFCN_nll_surv_a0.0_5foldcv_gc32_dino_sig',\n",
    "          'DSMIL_nll_surv_a0.0_5foldcv_gc32_dino_sig',\n",
    "          'DGCN_nll_surv_a0.0_5foldcv_gc32_dino_sig', \n",
    "          'HIPT_LGP[vit4k_xs_dino]_freeze_[None]_nll_surv_a0.0_5foldcv_gc32_dino_sig'\n",
    "]\n",
    "\n",
    "model_names = ['AMIL', 'MI-FCN', 'DGCN', 'DSMIL', 'HIPT']\n",
    "results_df = pd.DataFrame(results_all).T\n",
    "results_df.columns = tcga_studies\n",
    "results_df = results_df.loc[models]\n",
    "results_df.index = model_names\n",
    "print(results_df.to_latex())\n",
    "results_df"
   ]
  }
 ],
 "metadata": {
  "kernelspec": {
   "display_name": "Python 3",
   "language": "python",
   "name": "python3"
  },
  "language_info": {
   "codemirror_mode": {
    "name": "ipython",
    "version": 3
   },
   "file_extension": ".py",
   "mimetype": "text/x-python",
   "name": "python",
   "nbconvert_exporter": "python",
   "pygments_lexer": "ipython3",
   "version": "3.8.5"
  },
  "toc-autonumbering": true,
  "toc-showcode": false,
  "toc-showmarkdowntxt": false,
  "toc-showtags": false
 },
 "nbformat": 4,
 "nbformat_minor": 4
}
