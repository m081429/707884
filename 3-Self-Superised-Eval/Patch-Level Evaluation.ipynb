{
 "cells": [
  {
   "cell_type": "markdown",
   "metadata": {},
   "source": [
    "### Dependencies"
   ]
  },
  {
   "cell_type": "code",
   "execution_count": 18,
   "metadata": {},
   "outputs": [],
   "source": [
    "import os\n",
    "import pickle\n",
    "import warnings\n",
    "warnings.filterwarnings('ignore')\n",
    "\n",
    "import numpy as np\n",
    "import pandas\n",
    "import pandas as pd\n",
    "pandas.set_option(\"display.precision\", 3)\n",
    "from tqdm import tqdm\n",
    "\n",
    "import sklearn\n",
    "from sklearn.neighbors import KNeighborsClassifier\n",
    "from sklearn.linear_model import LinearRegression\n",
    "from sklearn.preprocessing import LabelEncoder\n",
    "from sklearn.utils._testing import ignore_warnings\n",
    "from sklearn.exceptions import ConvergenceWarning"
   ]
  },
  {
   "cell_type": "markdown",
   "metadata": {},
   "source": [
    "### How To Use\n",
    "1. Pre-extracted features for each patch dataset are available in \"embeddings_patch_library\" on Google Drive\n",
    "2. Download \"embeddings_patch_library\" to this containing directory\n",
    "3. Run"
   ]
  },
  {
   "cell_type": "markdown",
   "metadata": {},
   "source": [
    "### CRC-100K (Without SN)"
   ]
  },
  {
   "cell_type": "code",
   "execution_count": 19,
   "metadata": {},
   "outputs": [],
   "source": [
    "crc100k_nonorm_aucs_all = {}\n",
    "models = ['resnet50_trunc',\n",
    "          'vits_tcga_brca_dino',\n",
    "          'vits_tcga_pancancer_dino',\n",
    "          'vits_tcga_pancancer_dino_s4'\n",
    "        ]\n",
    "model_names = ['ImageNet',\n",
    "               'DINO (BRCA)',\n",
    "               'DINO (PAN)', \n",
    "               'DINO (PAN S4)'\n",
    "              ]\n",
    "\n",
    "for enc in models:\n",
    "    train_fname = os.path.join('./embeddings_patch_library/', 'kather100knonorm_train_%s.pkl' % enc)\n",
    "    with open(train_fname, 'rb') as handle:\n",
    "        asset_dict = pickle.load(handle)\n",
    "        train_embeddings, train_labels = asset_dict['embeddings'], asset_dict['labels']\n",
    "\n",
    "    val_fname = os.path.join('./embeddings_patch_library/', 'kather100knonorm_val_%s.pkl' % enc)\n",
    "    with open(val_fname, 'rb') as handle:\n",
    "        asset_dict = pickle.load(handle)\n",
    "        val_embeddings, val_labels = asset_dict['embeddings'], asset_dict['labels']\n",
    "\n",
    "    train_labels[train_labels=='MUS'] = 'STR'\n",
    "    val_labels[val_labels=='MUS'] = 'STR'\n",
    "    le = LabelEncoder().fit(train_labels)\n",
    "    train_labels = le.transform(train_labels)\n",
    "    val_labels = le.transform(val_labels)\n",
    "    \n",
    "    if enc in crc100k_nonorm_aucs_all.keys():\n",
    "        pass\n",
    "    else:\n",
    "        clf = KNeighborsClassifier().fit(train_embeddings, train_labels)\n",
    "        y_score = clf.predict_proba(val_embeddings)\n",
    "        y_pred = clf.predict(val_embeddings)\n",
    "        aucs, f1s = [], []\n",
    "        for i, label in enumerate(np.unique(val_labels)):\n",
    "            label_class = np.array(val_labels == label, int)\n",
    "            aucs.append(sklearn.metrics.roc_auc_score(label_class, y_score[:,i]))\n",
    "        aucs.append(sklearn.metrics.roc_auc_score(val_labels, y_score, average='macro', multi_class='ovr'))\n",
    "        crc100k_nonorm_aucs_all[enc] = aucs\n",
    "\n",
    "aucs_df = pd.DataFrame(crc100k_nonorm_aucs_all).T.loc[models]\n",
    "aucs_df.index = model_names\n",
    "aucs_df.columns = list(np.unique(train_labels)) + ['All']\n",
    "crc100kr = aucs_df['All']"
   ]
  },
  {
   "cell_type": "markdown",
   "metadata": {},
   "source": [
    "### CRC-100K (With SN)"
   ]
  },
  {
   "cell_type": "code",
   "execution_count": 20,
   "metadata": {},
   "outputs": [],
   "source": [
    "crc100k_aucs_all = {}\n",
    "models = ['resnet50_trunc',\n",
    "          'vits_tcga_brca_dino',\n",
    "          'vits_tcga_pancancer_dino',\n",
    "          'vits_tcga_pancancer_dino_s4'\n",
    "        ]\n",
    "model_names = ['ImageNet',\n",
    "               'DINO (BRCA)',\n",
    "               'DINO (PAN)', \n",
    "               'DINO (PAN S4)'\n",
    "              ]\n",
    "\n",
    "for enc in models:\n",
    "    train_fname = os.path.join('./embeddings_patch_library/', 'kather100k_train_%s.pkl' % enc)\n",
    "    with open(train_fname, 'rb') as handle:\n",
    "        asset_dict = pickle.load(handle)\n",
    "        train_embeddings, train_labels = asset_dict['embeddings'], asset_dict['labels']\n",
    "\n",
    "    val_fname = os.path.join('./embeddings_patch_library/', 'kather100k_val_%s.pkl' % enc)\n",
    "    with open(val_fname, 'rb') as handle:\n",
    "        asset_dict = pickle.load(handle)\n",
    "        val_embeddings, val_labels = asset_dict['embeddings'], asset_dict['labels']\n",
    "\n",
    "    train_labels[train_labels=='MUS'] = 'STR'\n",
    "    val_labels[val_labels=='MUS'] = 'STR'\n",
    "    le = LabelEncoder().fit(train_labels)\n",
    "    train_labels = le.transform(train_labels)\n",
    "    val_labels = le.transform(val_labels)\n",
    "    \n",
    "    if enc in crc100k_aucs_all.keys():\n",
    "        pass\n",
    "    else:\n",
    "        clf = KNeighborsClassifier().fit(train_embeddings, train_labels)\n",
    "        y_score = clf.predict_proba(val_embeddings)\n",
    "        y_pred = clf.predict(val_embeddings)\n",
    "        aucs, f1s = [], []\n",
    "        for i, label in enumerate(np.unique(val_labels)):\n",
    "            label_class = np.array(val_labels == label, int)\n",
    "            aucs.append(sklearn.metrics.roc_auc_score(label_class, y_score[:,i]))\n",
    "        aucs.append(sklearn.metrics.roc_auc_score(val_labels, y_score, average='macro', multi_class='ovr'))\n",
    "        crc100k_aucs_all[enc] = aucs\n",
    "\n",
    "aucs_df = pd.DataFrame(crc100k_aucs_all).T.loc[models]\n",
    "aucs_df.index = model_names\n",
    "aucs_df.columns = list(np.unique(train_labels)) + ['All']\n",
    "crc100kn = aucs_df['All']"
   ]
  },
  {
   "cell_type": "markdown",
   "metadata": {},
   "source": [
    "### BCSS"
   ]
  },
  {
   "cell_type": "code",
   "execution_count": 25,
   "metadata": {},
   "outputs": [],
   "source": [
    "bpq_mse_all = []\n",
    "models = ['resnet50_trunc', \n",
    "          'vits_tcga_brca_dino', \n",
    "          'vits_tcga_pancancer_dino', \n",
    "          'vits_tcga_pancancer_dino_s4'\n",
    "         ]\n",
    "model_names = ['ImageNet',\n",
    "               'DINO (BRCA)',\n",
    "               'DINO (PAN)',\n",
    "               'DINO (PAN S4)'\n",
    "              ]\n",
    "\n",
    "for enc in models:\n",
    "    train_fname = os.path.join('./embeddings_patch_library/', 'breastq_train_%s.pkl' % enc)\n",
    "    with open(train_fname, 'rb') as handle:\n",
    "        asset_dict = pickle.load(handle)\n",
    "        train_embeddings, train_labels = asset_dict['embeddings'], asset_dict['labels']\n",
    "\n",
    "    val_fname = os.path.join('./embeddings_patch_library/', 'breastq_val_%s.pkl' % enc)\n",
    "    with open(val_fname, 'rb') as handle:\n",
    "        asset_dict = pickle.load(handle)\n",
    "        val_embeddings, val_labels = asset_dict['embeddings'], asset_dict['labels']\n",
    "    \n",
    "    clf = LinearRegression().fit(train_embeddings, train_labels)\n",
    "    y_score = clf.predict(val_embeddings)\n",
    "    bpq_mse_all.append(sklearn.metrics.mean_squared_error(val_labels, y_score))\n",
    "\n",
    "mse_df = pd.DataFrame(bpq_mse_all)\n",
    "mse_df.columns = ['MSE']\n",
    "mse_df.index = model_names\n",
    "bpq = mse_df"
   ]
  },
  {
   "cell_type": "markdown",
   "metadata": {},
   "source": [
    "### BreastPathQ"
   ]
  },
  {
   "cell_type": "code",
   "execution_count": 26,
   "metadata": {},
   "outputs": [],
   "source": [
    "bcss_aucs_all = {}\n",
    "models = ['resnet50_trunc', \n",
    "          'vits_tcga_brca_dino', \n",
    "          'vits_tcga_pancancer_dino', \n",
    "          'vits_tcga_pancancer_dino_s4'\n",
    "         ]\n",
    "model_names = ['ImageNet',\n",
    "               'DINO (BRCA)',\n",
    "               'DINO (PAN)',\n",
    "               'DINO (PAN S4)'\n",
    "              ]\n",
    "\n",
    "for enc in models:\n",
    "    train_fname = './embeddings_patch_library/bcss_train_%s.pkl' % enc\n",
    "    with open(train_fname, 'rb') as handle:\n",
    "        asset_dict = pickle.load(handle)\n",
    "        train_embeddings, train_labels = asset_dict['embeddings'], asset_dict['labels']\n",
    "\n",
    "    val_fname = './embeddings_patch_library/bcss_val_%s.pkl' % enc\n",
    "    with open(val_fname, 'rb') as handle:\n",
    "        asset_dict = pickle.load(handle)\n",
    "        val_embeddings, val_labels = asset_dict['embeddings'], asset_dict['labels']\n",
    "    \n",
    "    if enc in bcss_aucs_all.keys():\n",
    "        pass\n",
    "    else:\n",
    "        clf = KNeighborsClassifier().fit(train_embeddings, train_labels)\n",
    "        y_score = clf.predict_proba(val_embeddings)\n",
    "        y_pred = clf.predict(val_embeddings)\n",
    "        aucs, f1s = [], []\n",
    "        for i, label in enumerate(np.unique(val_labels)):\n",
    "            label_class = np.array(val_labels == label, int)\n",
    "            aucs.append(sklearn.metrics.roc_auc_score(label_class, y_score[:,i]))\n",
    "        aucs.append(sklearn.metrics.roc_auc_score(val_labels, y_score, average='macro', multi_class='ovr'))\n",
    "        bcss_aucs_all[enc] = aucs\n",
    "        \n",
    "aucs_df = pd.DataFrame(bcss_aucs_all).T.loc[models]\n",
    "aucs_df.index = model_names\n",
    "aucs_df.columns = list(np.unique(train_labels)) + ['All']\n",
    "bcss = aucs_df['All']"
   ]
  },
  {
   "cell_type": "markdown",
   "metadata": {},
   "source": [
    "### Table 5"
   ]
  },
  {
   "cell_type": "code",
   "execution_count": 32,
   "metadata": {},
   "outputs": [
    {
     "name": "stdout",
     "output_type": "stream",
     "text": [
      "\\begin{tabular}{lrrrr}\n",
      "\\toprule\n",
      "{} &  CRC-100K-R &  CRC-100K-N &   BCSS &  BreastPathQ \\\\\n",
      "\\midrule\n",
      "ImageNet      &       0.935 &       0.983 &  0.599 &        0.058 \\\\\n",
      "DINO (BRCA)   &       0.941 &       0.987 &  0.593 &        0.029 \\\\\n",
      "DINO (PAN)    &       0.941 &       0.983 &  0.616 &        0.023 \\\\\n",
      "DINO (PAN S4) &       0.927 &       0.985 &  0.612 &        0.052 \\\\\n",
      "\\bottomrule\n",
      "\\end{tabular}\n",
      "\n"
     ]
    },
    {
     "data": {
      "text/html": [
       "<div>\n",
       "<style scoped>\n",
       "    .dataframe tbody tr th:only-of-type {\n",
       "        vertical-align: middle;\n",
       "    }\n",
       "\n",
       "    .dataframe tbody tr th {\n",
       "        vertical-align: top;\n",
       "    }\n",
       "\n",
       "    .dataframe thead th {\n",
       "        text-align: right;\n",
       "    }\n",
       "</style>\n",
       "<table border=\"1\" class=\"dataframe\">\n",
       "  <thead>\n",
       "    <tr style=\"text-align: right;\">\n",
       "      <th></th>\n",
       "      <th>CRC-100K-R</th>\n",
       "      <th>CRC-100K-N</th>\n",
       "      <th>BCSS</th>\n",
       "      <th>BreastPathQ</th>\n",
       "    </tr>\n",
       "  </thead>\n",
       "  <tbody>\n",
       "    <tr>\n",
       "      <th>ImageNet</th>\n",
       "      <td>0.935</td>\n",
       "      <td>0.983</td>\n",
       "      <td>0.599</td>\n",
       "      <td>0.058</td>\n",
       "    </tr>\n",
       "    <tr>\n",
       "      <th>DINO (BRCA)</th>\n",
       "      <td>0.941</td>\n",
       "      <td>0.987</td>\n",
       "      <td>0.593</td>\n",
       "      <td>0.029</td>\n",
       "    </tr>\n",
       "    <tr>\n",
       "      <th>DINO (PAN)</th>\n",
       "      <td>0.941</td>\n",
       "      <td>0.983</td>\n",
       "      <td>0.616</td>\n",
       "      <td>0.023</td>\n",
       "    </tr>\n",
       "    <tr>\n",
       "      <th>DINO (PAN S4)</th>\n",
       "      <td>0.927</td>\n",
       "      <td>0.985</td>\n",
       "      <td>0.612</td>\n",
       "      <td>0.052</td>\n",
       "    </tr>\n",
       "  </tbody>\n",
       "</table>\n",
       "</div>"
      ],
      "text/plain": [
       "               CRC-100K-R  CRC-100K-N   BCSS  BreastPathQ\n",
       "ImageNet            0.935       0.983  0.599        0.058\n",
       "DINO (BRCA)         0.941       0.987  0.593        0.029\n",
       "DINO (PAN)          0.941       0.983  0.616        0.023\n",
       "DINO (PAN S4)       0.927       0.985  0.612        0.052"
      ]
     },
     "metadata": {},
     "output_type": "display_data"
    }
   ],
   "source": [
    "aucs_df = pd.concat([crc100kr, crc100kn, bcss, bpq], axis=1)\n",
    "aucs_df.columns = ['CRC-100K-R', 'CRC-100K-N', 'BCSS', 'BreastPathQ']\n",
    "print(aucs_df.to_latex())\n",
    "display(aucs_df)"
   ]
  }
 ],
 "metadata": {
  "kernelspec": {
   "display_name": "Python 3",
   "language": "python",
   "name": "python3"
  },
  "language_info": {
   "codemirror_mode": {
    "name": "ipython",
    "version": 3
   },
   "file_extension": ".py",
   "mimetype": "text/x-python",
   "name": "python",
   "nbconvert_exporter": "python",
   "pygments_lexer": "ipython3",
   "version": "3.8.5"
  }
 },
 "nbformat": 4,
 "nbformat_minor": 4
}
